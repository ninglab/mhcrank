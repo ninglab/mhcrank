{
 "cells": [
  {
   "cell_type": "code",
   "execution_count": 1,
   "metadata": {},
   "outputs": [],
   "source": [
    "import os"
   ]
  },
  {
   "cell_type": "code",
   "execution_count": 11,
   "metadata": {},
   "outputs": [],
   "source": [
    "os.chdir('./mhc_rank/')\n",
    "from class1_processing_neural_network import *\n",
    "from class1_processing_predictor import *\n",
    "os.chdir('../')"
   ]
  },
  {
   "cell_type": "code",
   "execution_count": 14,
   "metadata": {},
   "outputs": [],
   "source": [
    "import json\n",
    "import numpy as np\n",
    "import pandas as pd"
   ]
  },
  {
   "cell_type": "code",
   "execution_count": null,
   "metadata": {},
   "outputs": [],
   "source": [
    "os.chdir('./ap_models3/')"
   ]
  },
  {
   "cell_type": "code",
   "execution_count": null,
   "metadata": {},
   "outputs": [],
   "source": [
    "manifest_ = pd.from_csv('')\n",
    "manifest_ = pd.from_csv('')\n",
    "manifest_ = pd.from_csv('')\n",
    "manifest_ = pd.from_csv('')\n",
    "manifest_ = pd.from_csv('')"
   ]
  },
  {
   "cell_type": "code",
   "execution_count": null,
   "metadata": {},
   "outputs": [],
   "source": [
    "fold0_1_file = './training_/weights_' + manifest_.iloc[ ,0] + '.npz'\n",
    "fold0_2_file = './training_/weights_' + manifest_.iloc[ ,0] + '.npz'\n",
    "\n",
    "fold1_1_file = './training_/weights_' + manifest_.iloc[ ,0] + '.npz'\n",
    "fold1_2_file = './training_/weights_' + manifest_.iloc[ ,0] + '.npz'\n",
    "\n",
    "fold2_1_file = './training_/weights_' + manifest_.iloc[ ,0] + '.npz'\n",
    "fold2_2_file = './training_/weights_' + manifest_.iloc[ ,0] + '.npz'\n",
    "\n",
    "fold3_1_file = './training_/weights_' + manifest_.iloc[ ,0] + '.npz'\n",
    "fold3_2_file = './training_/weights_' + manifest_.iloc[ ,0] + '.npz'\n",
    "\n",
    "top1_1_file = './training_/weights_' + manifest_.iloc[ ,0] + '.npz'\n",
    "top1_2_file = './training_/weights_' + manifest_.iloc[ ,0] + '.npz'\n",
    "top1_3_file = './training_/weights_' + manifest_.iloc[ ,0] + '.npz'\n",
    "top1_4_file = './training_/weights_' + manifest_.iloc[ ,0] + '.npz'\n",
    "\n",
    "top2_1_file = './training_/weights_' + manifest_.iloc[ ,0] + '.npz'\n",
    "top2_2_file = './training_/weights_' + manifest_.iloc[ ,0] + '.npz'\n",
    "top2_3_file = './training_/weights_' + manifest_.iloc[ ,0] + '.npz'\n",
    "top2_4_file = './training_/weights_' + manifest_.iloc[ ,0] + '.npz'"
   ]
  },
  {
   "cell_type": "code",
   "execution_count": null,
   "metadata": {},
   "outputs": [],
   "source": [
    "# define weights\n",
    "\n",
    "fold0_1_weight = [np.load(fold0_1_file)[weight] for weight in np.load(fold0_1_file).files]\n",
    "fold0_2_weight = [np.load(fold0_2_file)[weight] for weight in np.load(fold0_2_file).files]\n",
    "\n",
    "fold1_1_weight = [np.load(fold1_1_file)[weight] for weight in np.load(fold1_1_file).files]\n",
    "fold1_2_weight = [np.load(fold1_2_file)[weight] for weight in np.load(fold1_2_file).files]\n",
    "\n",
    "fold2_1_weight = [np.load(fold2_1_file)[weight] for weight in np.load(fold2_1_file).files]\n",
    "fold2_2_weight = [np.load(fold2_2_file)[weight] for weight in np.load(fold2_2_file).files]\n",
    "\n",
    "fold3_1_weight = [np.load(fold3_1_file)[weight] for weight in np.load(fold3_1_file).files]\n",
    "fold3_2_weight = [np.load(fold3_2_file)[weight] for weight in np.load(fold3_2_file).files]\n",
    "\n",
    "top1_1_weight = [np.load(top1_1_file)[weight] for weight in np.load(top1_1_file).files]\n",
    "top1_2_weight = [np.load(top1_2_file)[weight] for weight in np.load(top1_2_file).files]\n",
    "top1_3_weight = [np.load(top1_3_file)[weight] for weight in np.load(top1_3_file).files]\n",
    "top1_4_weight = [np.load(top1_4_file)[weight] for weight in np.load(top1_4_file).files]\n",
    "\n",
    "top2_1_weight = [np.load(top2_1_file)[weight] for weight in np.load(top2_1_file).files]\n",
    "top2_2_weight = [np.load(top2_2_file)[weight] for weight in np.load(top2_2_file).files]\n",
    "top2_3_weight = [np.load(top2_3_file)[weight] for weight in np.load(top2_3_file).files]\n",
    "top2_4_weight = [np.load(top2_4_file)[weight] for weight in np.load(top2_4_file).files]"
   ]
  },
  {
   "cell_type": "code",
   "execution_count": 12,
   "metadata": {},
   "outputs": [
    {
     "data": {
      "text/plain": [
       "'/users/PAS1475/lawrencep487/mhc_rank'"
      ]
     },
     "execution_count": 12,
     "metadata": {},
     "output_type": "execute_result"
    }
   ],
   "source": [
    "# define configs\n",
    "fold0_1_config = json.loads(manifest_.iloc[ ,1])\n",
    "fold0_2_config = json.loads(manifest_.iloc[ ,1])\n",
    "\n",
    "fold1_1_config = json.loads(manifest_.iloc[ ,1])\n",
    "fold1_2_config = json.loads(manifest_.iloc[ ,1])\n",
    "\n",
    "fold2_1_config = json.loads(manifest_.iloc[ ,1])\n",
    "fold2_2_config = json.loads(manifest_.iloc[ ,1])\n",
    "\n",
    "fold3_1_config = json.loads(manifest_.iloc[ ,1])\n",
    "fold3_2_config = json.loads(manifest_.iloc[ ,1])\n",
    "\n",
    "top1_1_config = json.loads(manifest_.iloc[ ,1])\n",
    "top1_2_config = json.loads(manifest_.iloc[ ,1])\n",
    "top1_3_config = json.loads(manifest_.iloc[ ,1])\n",
    "top1_4_config =json.loads(manifest_.iloc[ ,1])\n",
    "\n",
    "top2_1_config = json.loads(manifest_.iloc[ ,1])\n",
    "top2_2_config = json.loads(manifest_.iloc[ ,1])\n",
    "top2_3_config = json.loads(manifest_.iloc[ ,1])\n",
    "top2_4_config = json.loads(manifest_.iloc[ ,1])"
   ]
  },
  {
   "cell_type": "code",
   "execution_count": null,
   "metadata": {},
   "outputs": [],
   "source": [
    "# Define NNs\n",
    "\n",
    "fold0_1 = Class1ProcessingNeuralNetwork().from_config(fold0_1_config, fold0_1_weight)\n",
    "fold0_2 = Class1ProcessingNeuralNetwork().from_config(fold0_2_config, fold0_2_weight)\n",
    "\n",
    "fold1_1 = Class1ProcessingNeuralNetwork().from_config(fold1_1_config, fold1_1_weight)\n",
    "fold1_2 = Class1ProcessingNeuralNetwork().from_config(fold1_2_config, fold1_2_weight)\n",
    "\n",
    "fold2_1 = Class1ProcessingNeuralNetwork().from_config(fold2_1_config, fold2_1_weight)\n",
    "fold2_2 = Class1ProcessingNeuralNetwork().from_config(fold2_2_config, fold2_2_weight)\n",
    "\n",
    "fold3_1 = Class1ProcessingNeuralNetwork().from_config(fold3_1_config, fold3_1_weight)\n",
    "fold3_2 = Class1ProcessingNeuralNetwork().from_config(fold3_2_config, fold3_2_weight)\n",
    "\n",
    "top1_1 = Class1ProcessingNeuralNetwork().from_config(top1_1_config, top1_1_weights)\n",
    "top1_2 = Class1ProcessingNeuralNetwork().from_config(top1_2_config, top1_2_weights)\n",
    "top1_3 = Class1ProcessingNeuralNetwork().from_config(top1_3_config, top1_3_weights)\n",
    "top1_4 = Class1ProcessingNeuralNetwork().from_config(top1_4_config, top1_4_weights)\n",
    "\n",
    "top2_1 = Class1ProcessingNeuralNetwork().from_config(top2_1_config, top2_1_weight)\n",
    "top2_2 = Class1ProcessingNeuralNetwork().from_config(top2_2_config, top2_2_weight)\n",
    "top2_3 = Class1ProcessingNeuralNetwork().from_config(top2_3_config, top2_3_weight)\n",
    "top2_4 = Class1ProcessingNeuralNetwork().from_config(top2_4_config, top2_4_weight)"
   ]
  },
  {
   "cell_type": "code",
   "execution_count": null,
   "metadata": {},
   "outputs": [],
   "source": [
    "#  Create Predictor ensemble\n",
    "\n",
    "models = [fold0_1, fold0_2, fold1_1, fold1_2, fold2_1, fold2_2, fold3_1, fold3_2,\n",
    "          top1_1, top1_2, top1_3, top1_4, top2_1, top2_2, top2_3, top2_4]\n",
    "\n",
    "ensemble = Class1ProcessingPredictor()\n",
    "ensemble.add_models(models)\n",
    "ensemble.save('./ap_models3/selected_models/')"
   ]
  }
 ],
 "metadata": {
  "kernelspec": {
   "display_name": "Python 3.6 (Conda 5.2) [python/3.6-conda5.2]",
   "language": "python",
   "name": "sys_python36conda"
  },
  "language_info": {
   "codemirror_mode": {
    "name": "ipython",
    "version": 3
   },
   "file_extension": ".py",
   "mimetype": "text/x-python",
   "name": "python",
   "nbconvert_exporter": "python",
   "pygments_lexer": "ipython3",
   "version": "3.6.6"
  }
 },
 "nbformat": 4,
 "nbformat_minor": 4
}
